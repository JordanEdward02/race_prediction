{
 "cells": [
  {
   "cell_type": "markdown",
   "metadata": {},
   "source": [
    "## Race Predictions ##\n",
    "### An exploration of data forcasting techniques so I don't forgot how data works in python ###"
   ]
  },
  {
   "cell_type": "code",
   "execution_count": 40,
   "metadata": {},
   "outputs": [],
   "source": [
    "import requests"
   ]
  },
  {
   "cell_type": "markdown",
   "metadata": {},
   "source": [
    "#### Load Data ####\n",
    "\n",
    "For the data, I will be using the  'jolpi.ca F1 API' which can be found [here](https://api.jolpi.ca/ergast/)."
   ]
  },
  {
   "cell_type": "code",
   "execution_count": null,
   "metadata": {},
   "outputs": [],
   "source": [
    "# Get the bulk of the data as a python object\n",
    "race_years = ['2024', '2023', '2022']\n",
    "races = {}\n",
    "for year in race_years:\n",
    "    races[year] = {}\n",
    "\n",
    "for year in race_years:\n",
    "    \n",
    "    request_limiter = 0\n",
    "    results = requests.get(\"http://api.jolpi.ca/ergast/f1/\"+year+\"/results?limit=100\").json()[\"MRData\"]\n",
    "    for result in results[\"RaceTable\"][\"Races\"]:\n",
    "        races[year][result[\"raceName\"]] = result[\"Results\"]\n",
    "\n",
    "    while(int(results[\"total\"]) > request_limiter + 100):\n",
    "        request_limiter += 100\n",
    "        results = requests.get(\"http://api.jolpi.ca/ergast/f1/\"+year+\"/results?limit=100&offset=\"+str(request_limiter)).json()[\"MRData\"]\n",
    "        for result in results[\"RaceTable\"][\"Races\"]:  \n",
    "            races[year][result[\"raceName\"]] = result[\"Results\"]\n"
   ]
  },
  {
   "cell_type": "code",
   "execution_count": null,
   "metadata": {},
   "outputs": [],
   "source": [
    "# Split each race result into a pandas dataframe"
   ]
  }
 ],
 "metadata": {
  "kernelspec": {
   "display_name": "Python 3",
   "language": "python",
   "name": "python3"
  },
  "language_info": {
   "codemirror_mode": {
    "name": "ipython",
    "version": 3
   },
   "file_extension": ".py",
   "mimetype": "text/x-python",
   "name": "python",
   "nbconvert_exporter": "python",
   "pygments_lexer": "ipython3",
   "version": "3.12.4"
  }
 },
 "nbformat": 4,
 "nbformat_minor": 2
}
